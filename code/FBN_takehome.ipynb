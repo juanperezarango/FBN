{
 "cells": [
  {
   "cell_type": "markdown",
   "metadata": {},
   "source": [
    "#  <center>FBN Data Science Take-Home Question </center> "
   ]
  },
  {
   "cell_type": "markdown",
   "metadata": {},
   "source": [
    "![FBN-color-logo.jpeg](https://farmandlivestockdirectory.com/wp-content/uploads/FBN-color-logo.jpeg)"
   ]
  },
  {
   "cell_type": "markdown",
   "metadata": {},
   "source": [
    "<center> By : Juan Pérez-Arango </center>\n",
    "\n",
    "This jupyter notebook contains all the information related to the FBN Data Science Question including the code, the results and some insights "
   ]
  },
  {
   "cell_type": "markdown",
   "metadata": {},
   "source": [
    "## Step 0. Importing all the necessary libraries from python"
   ]
  },
  {
   "cell_type": "code",
   "execution_count": 51,
   "metadata": {},
   "outputs": [],
   "source": [
    "import pandas as pd\n",
    "import matplotlib.pyplot as plt\n",
    "import numpy as np\n",
    "import seaborn as sns\n",
    "%matplotlib inline"
   ]
  },
  {
   "cell_type": "markdown",
   "metadata": {},
   "source": [
    "## Step 1. Importing data from local folder\n"
   ]
  },
  {
   "cell_type": "code",
   "execution_count": 52,
   "metadata": {},
   "outputs": [],
   "source": [
    "planting = pd.read_csv('../data/planting_sample_data.csv')\n",
    "harvest = pd.read_csv('../data/harvest_sample_data.csv')"
   ]
  },
  {
   "cell_type": "markdown",
   "metadata": {},
   "source": [
    "### Step 1.1. Getting to know the data\n",
    "In this step I will explore the data to know the structure, the unique values in the data and to identify any missing values. This will allow me to understand the data better and to think about which could be a good way to explore it initially"
   ]
  },
  {
   "cell_type": "code",
   "execution_count": 53,
   "metadata": {},
   "outputs": [
    {
     "data": {
      "text/html": [
       "<div>\n",
       "<style scoped>\n",
       "    .dataframe tbody tr th:only-of-type {\n",
       "        vertical-align: middle;\n",
       "    }\n",
       "\n",
       "    .dataframe tbody tr th {\n",
       "        vertical-align: top;\n",
       "    }\n",
       "\n",
       "    .dataframe thead th {\n",
       "        text-align: right;\n",
       "    }\n",
       "</style>\n",
       "<table border=\"1\" class=\"dataframe\">\n",
       "  <thead>\n",
       "    <tr style=\"text-align: right;\">\n",
       "      <th></th>\n",
       "      <th>long</th>\n",
       "      <th>lat</th>\n",
       "      <th>variety</th>\n",
       "      <th>seeding_rate</th>\n",
       "      <th>seed_spacing</th>\n",
       "      <th>speed</th>\n",
       "    </tr>\n",
       "  </thead>\n",
       "  <tbody>\n",
       "    <tr>\n",
       "      <th>0</th>\n",
       "      <td>-91.850532</td>\n",
       "      <td>40.376043</td>\n",
       "      <td>P1498</td>\n",
       "      <td>47.6142</td>\n",
       "      <td>4.3913</td>\n",
       "      <td>1.90</td>\n",
       "    </tr>\n",
       "    <tr>\n",
       "      <th>1</th>\n",
       "      <td>-91.850519</td>\n",
       "      <td>40.376043</td>\n",
       "      <td>P1498</td>\n",
       "      <td>47.6412</td>\n",
       "      <td>4.3888</td>\n",
       "      <td>2.11</td>\n",
       "    </tr>\n",
       "    <tr>\n",
       "      <th>2</th>\n",
       "      <td>-91.850504</td>\n",
       "      <td>40.376043</td>\n",
       "      <td>P1498</td>\n",
       "      <td>47.6412</td>\n",
       "      <td>4.3888</td>\n",
       "      <td>2.52</td>\n",
       "    </tr>\n",
       "    <tr>\n",
       "      <th>3</th>\n",
       "      <td>-91.850487</td>\n",
       "      <td>40.376043</td>\n",
       "      <td>P1498</td>\n",
       "      <td>47.6412</td>\n",
       "      <td>4.3888</td>\n",
       "      <td>2.94</td>\n",
       "    </tr>\n",
       "    <tr>\n",
       "      <th>4</th>\n",
       "      <td>-91.850467</td>\n",
       "      <td>40.376043</td>\n",
       "      <td>P1498</td>\n",
       "      <td>34.6421</td>\n",
       "      <td>6.0357</td>\n",
       "      <td>3.37</td>\n",
       "    </tr>\n",
       "  </tbody>\n",
       "</table>\n",
       "</div>"
      ],
      "text/plain": [
       "        long        lat variety  seeding_rate  seed_spacing  speed\n",
       "0 -91.850532  40.376043   P1498       47.6142        4.3913   1.90\n",
       "1 -91.850519  40.376043   P1498       47.6412        4.3888   2.11\n",
       "2 -91.850504  40.376043   P1498       47.6412        4.3888   2.52\n",
       "3 -91.850487  40.376043   P1498       47.6412        4.3888   2.94\n",
       "4 -91.850467  40.376043   P1498       34.6421        6.0357   3.37"
      ]
     },
     "execution_count": 53,
     "metadata": {},
     "output_type": "execute_result"
    }
   ],
   "source": [
    "planting.head()"
   ]
  },
  {
   "cell_type": "code",
   "execution_count": 54,
   "metadata": {},
   "outputs": [
    {
     "name": "stdout",
     "output_type": "stream",
     "text": [
      "The Planting file 6314 rows\n"
     ]
    }
   ],
   "source": [
    "print('The Planting file '+str(len(planting))+' rows') #Here I am checking the size of the file"
   ]
  },
  {
   "cell_type": "code",
   "execution_count": 55,
   "metadata": {},
   "outputs": [
    {
     "data": {
      "text/plain": [
       "array(['P1498', 'DKC63-33RIB'], dtype=object)"
      ]
     },
     "execution_count": 55,
     "metadata": {},
     "output_type": "execute_result"
    }
   ],
   "source": [
    "planting.variety.unique()"
   ]
  },
  {
   "cell_type": "code",
   "execution_count": 56,
   "metadata": {},
   "outputs": [
    {
     "data": {
      "text/plain": [
       "[0, 1]"
      ]
     },
     "execution_count": 56,
     "metadata": {},
     "output_type": "execute_result"
    }
   ],
   "source": [
    "list(range(len(planting.variety.unique())))"
   ]
  },
  {
   "cell_type": "code",
   "execution_count": 57,
   "metadata": {},
   "outputs": [],
   "source": [
    "#I replace the variety by numbers depending on the different varieties, in this case 0,1 for 2 varieties\n",
    "planting = planting.replace(planting.variety.unique(),list(range(len(planting.variety.unique()))))"
   ]
  },
  {
   "cell_type": "code",
   "execution_count": 58,
   "metadata": {},
   "outputs": [
    {
     "data": {
      "text/plain": [
       "long            0\n",
       "lat             0\n",
       "variety         0\n",
       "seeding_rate    0\n",
       "seed_spacing    0\n",
       "speed           0\n",
       "dtype: int64"
      ]
     },
     "execution_count": 58,
     "metadata": {},
     "output_type": "execute_result"
    }
   ],
   "source": [
    "# Checking for gaps in the file\n",
    "planting.isna().sum() "
   ]
  },
  {
   "cell_type": "markdown",
   "metadata": {},
   "source": [
    "This shows there is only two varieties of seeds planted in this field P1498, and DKC63-33RIB"
   ]
  },
  {
   "cell_type": "code",
   "execution_count": 59,
   "metadata": {},
   "outputs": [
    {
     "data": {
      "text/html": [
       "<div>\n",
       "<style scoped>\n",
       "    .dataframe tbody tr th:only-of-type {\n",
       "        vertical-align: middle;\n",
       "    }\n",
       "\n",
       "    .dataframe tbody tr th {\n",
       "        vertical-align: top;\n",
       "    }\n",
       "\n",
       "    .dataframe thead th {\n",
       "        text-align: right;\n",
       "    }\n",
       "</style>\n",
       "<table border=\"1\" class=\"dataframe\">\n",
       "  <thead>\n",
       "    <tr style=\"text-align: right;\">\n",
       "      <th></th>\n",
       "      <th>long</th>\n",
       "      <th>lat</th>\n",
       "      <th>yield</th>\n",
       "    </tr>\n",
       "  </thead>\n",
       "  <tbody>\n",
       "    <tr>\n",
       "      <th>0</th>\n",
       "      <td>-91.849991</td>\n",
       "      <td>40.376097</td>\n",
       "      <td>88.451156</td>\n",
       "    </tr>\n",
       "    <tr>\n",
       "      <th>1</th>\n",
       "      <td>-91.849992</td>\n",
       "      <td>40.376106</td>\n",
       "      <td>102.173517</td>\n",
       "    </tr>\n",
       "    <tr>\n",
       "      <th>2</th>\n",
       "      <td>-91.849992</td>\n",
       "      <td>40.376116</td>\n",
       "      <td>191.420756</td>\n",
       "    </tr>\n",
       "    <tr>\n",
       "      <th>3</th>\n",
       "      <td>-91.849992</td>\n",
       "      <td>40.376127</td>\n",
       "      <td>236.556217</td>\n",
       "    </tr>\n",
       "    <tr>\n",
       "      <th>4</th>\n",
       "      <td>-91.849993</td>\n",
       "      <td>40.376139</td>\n",
       "      <td>224.822367</td>\n",
       "    </tr>\n",
       "  </tbody>\n",
       "</table>\n",
       "</div>"
      ],
      "text/plain": [
       "        long        lat       yield\n",
       "0 -91.849991  40.376097   88.451156\n",
       "1 -91.849992  40.376106  102.173517\n",
       "2 -91.849992  40.376116  191.420756\n",
       "3 -91.849992  40.376127  236.556217\n",
       "4 -91.849993  40.376139  224.822367"
      ]
     },
     "execution_count": 59,
     "metadata": {},
     "output_type": "execute_result"
    }
   ],
   "source": [
    "# In a similar way I can check the harvest dataframe\n",
    "harvest.head()"
   ]
  },
  {
   "cell_type": "code",
   "execution_count": 60,
   "metadata": {},
   "outputs": [
    {
     "name": "stdout",
     "output_type": "stream",
     "text": [
      "The harvest file has 16626 rows\n"
     ]
    }
   ],
   "source": [
    "print('The harvest file has '+str(len(harvest))+' rows') "
   ]
  },
  {
   "cell_type": "code",
   "execution_count": 61,
   "metadata": {},
   "outputs": [
    {
     "data": {
      "text/plain": [
       "long     0\n",
       "lat      0\n",
       "yield    0\n",
       "dtype: int64"
      ]
     },
     "execution_count": 61,
     "metadata": {},
     "output_type": "execute_result"
    }
   ],
   "source": [
    "# Checking for gaps in the file\n",
    "harvest.isna().sum() "
   ]
  },
  {
   "cell_type": "markdown",
   "metadata": {},
   "source": [
    "As I can see from this, the harvest file contains more data than the planting file.  Here the function required in the part A of the Question should be implemented to get a single file with the planting and harvest information together"
   ]
  },
  {
   "cell_type": "code",
   "execution_count": 62,
   "metadata": {},
   "outputs": [
    {
     "name": "stdout",
     "output_type": "stream",
     "text": [
      "0 0\n"
     ]
    }
   ],
   "source": [
    "#Checking if there are common values in longitude column between the 2 dataframes\n",
    "print(sum(planting.long.isin(harvest.long).astype(int)), sum(planting.lat.isin(harvest.lat).astype(int)))"
   ]
  },
  {
   "cell_type": "markdown",
   "metadata": {},
   "source": [
    "This is a sign that rounding the latitude and longitude values is necessary as the precision is to high to be coincidence between the two same points everytime in every file"
   ]
  },
  {
   "cell_type": "code",
   "execution_count": 63,
   "metadata": {},
   "outputs": [],
   "source": [
    "new_planting = planting.round(4)\n",
    "new_harvest = harvest.round(4)"
   ]
  },
  {
   "cell_type": "code",
   "execution_count": 64,
   "metadata": {},
   "outputs": [
    {
     "data": {
      "text/plain": [
       "((6314, 6), (16626, 3))"
      ]
     },
     "execution_count": 64,
     "metadata": {},
     "output_type": "execute_result"
    }
   ],
   "source": [
    "new_planting.shape , new_harvest.shape"
   ]
  },
  {
   "cell_type": "code",
   "execution_count": 65,
   "metadata": {},
   "outputs": [
    {
     "data": {
      "text/html": [
       "<div>\n",
       "<style scoped>\n",
       "    .dataframe tbody tr th:only-of-type {\n",
       "        vertical-align: middle;\n",
       "    }\n",
       "\n",
       "    .dataframe tbody tr th {\n",
       "        vertical-align: top;\n",
       "    }\n",
       "\n",
       "    .dataframe thead th {\n",
       "        text-align: right;\n",
       "    }\n",
       "</style>\n",
       "<table border=\"1\" class=\"dataframe\">\n",
       "  <thead>\n",
       "    <tr style=\"text-align: right;\">\n",
       "      <th></th>\n",
       "      <th>index</th>\n",
       "      <th>lat</th>\n",
       "      <th>long</th>\n",
       "      <th>variety</th>\n",
       "      <th>seeding_rate</th>\n",
       "      <th>seed_spacing</th>\n",
       "      <th>speed</th>\n",
       "      <th>yield</th>\n",
       "    </tr>\n",
       "  </thead>\n",
       "  <tbody>\n",
       "    <tr>\n",
       "      <th>0</th>\n",
       "      <td>0</td>\n",
       "      <td>40.3759</td>\n",
       "      <td>-91.8506</td>\n",
       "      <td>1.0</td>\n",
       "      <td>0.000000</td>\n",
       "      <td>0.000000</td>\n",
       "      <td>0.020000</td>\n",
       "      <td>254.314930</td>\n",
       "    </tr>\n",
       "    <tr>\n",
       "      <th>1</th>\n",
       "      <td>1</td>\n",
       "      <td>40.3759</td>\n",
       "      <td>-91.8505</td>\n",
       "      <td>1.0</td>\n",
       "      <td>35.784671</td>\n",
       "      <td>5.843829</td>\n",
       "      <td>2.971429</td>\n",
       "      <td>236.583817</td>\n",
       "    </tr>\n",
       "    <tr>\n",
       "      <th>2</th>\n",
       "      <td>2</td>\n",
       "      <td>40.3759</td>\n",
       "      <td>-91.8504</td>\n",
       "      <td>1.0</td>\n",
       "      <td>35.261100</td>\n",
       "      <td>5.929725</td>\n",
       "      <td>4.347500</td>\n",
       "      <td>290.148567</td>\n",
       "    </tr>\n",
       "    <tr>\n",
       "      <th>3</th>\n",
       "      <td>3</td>\n",
       "      <td>40.3759</td>\n",
       "      <td>-91.8503</td>\n",
       "      <td>1.0</td>\n",
       "      <td>35.212900</td>\n",
       "      <td>5.937840</td>\n",
       "      <td>4.356000</td>\n",
       "      <td>263.198717</td>\n",
       "    </tr>\n",
       "    <tr>\n",
       "      <th>4</th>\n",
       "      <td>4</td>\n",
       "      <td>40.3759</td>\n",
       "      <td>-91.8502</td>\n",
       "      <td>1.0</td>\n",
       "      <td>35.221850</td>\n",
       "      <td>5.936325</td>\n",
       "      <td>4.370000</td>\n",
       "      <td>266.890550</td>\n",
       "    </tr>\n",
       "    <tr>\n",
       "      <th>...</th>\n",
       "      <td>...</td>\n",
       "      <td>...</td>\n",
       "      <td>...</td>\n",
       "      <td>...</td>\n",
       "      <td>...</td>\n",
       "      <td>...</td>\n",
       "      <td>...</td>\n",
       "      <td>...</td>\n",
       "    </tr>\n",
       "    <tr>\n",
       "      <th>1225</th>\n",
       "      <td>1225</td>\n",
       "      <td>40.3794</td>\n",
       "      <td>-91.8465</td>\n",
       "      <td>1.0</td>\n",
       "      <td>35.242850</td>\n",
       "      <td>5.932800</td>\n",
       "      <td>4.475000</td>\n",
       "      <td>247.085083</td>\n",
       "    </tr>\n",
       "    <tr>\n",
       "      <th>1226</th>\n",
       "      <td>1226</td>\n",
       "      <td>40.3794</td>\n",
       "      <td>-91.8463</td>\n",
       "      <td>1.0</td>\n",
       "      <td>35.426700</td>\n",
       "      <td>5.902020</td>\n",
       "      <td>4.442000</td>\n",
       "      <td>226.402020</td>\n",
       "    </tr>\n",
       "    <tr>\n",
       "      <th>1227</th>\n",
       "      <td>1227</td>\n",
       "      <td>40.3794</td>\n",
       "      <td>-91.8462</td>\n",
       "      <td>1.0</td>\n",
       "      <td>35.353600</td>\n",
       "      <td>5.914225</td>\n",
       "      <td>4.465000</td>\n",
       "      <td>235.122440</td>\n",
       "    </tr>\n",
       "    <tr>\n",
       "      <th>1228</th>\n",
       "      <td>1228</td>\n",
       "      <td>40.3794</td>\n",
       "      <td>-91.8461</td>\n",
       "      <td>1.0</td>\n",
       "      <td>35.301100</td>\n",
       "      <td>5.924750</td>\n",
       "      <td>3.963333</td>\n",
       "      <td>195.312000</td>\n",
       "    </tr>\n",
       "    <tr>\n",
       "      <th>1229</th>\n",
       "      <td>1229</td>\n",
       "      <td>40.3794</td>\n",
       "      <td>-91.8460</td>\n",
       "      <td>1.0</td>\n",
       "      <td>36.284700</td>\n",
       "      <td>5.762480</td>\n",
       "      <td>3.322000</td>\n",
       "      <td>184.693671</td>\n",
       "    </tr>\n",
       "  </tbody>\n",
       "</table>\n",
       "<p>1230 rows × 8 columns</p>\n",
       "</div>"
      ],
      "text/plain": [
       "      index      lat     long  variety  seeding_rate  seed_spacing     speed  \\\n",
       "0         0  40.3759 -91.8506      1.0      0.000000      0.000000  0.020000   \n",
       "1         1  40.3759 -91.8505      1.0     35.784671      5.843829  2.971429   \n",
       "2         2  40.3759 -91.8504      1.0     35.261100      5.929725  4.347500   \n",
       "3         3  40.3759 -91.8503      1.0     35.212900      5.937840  4.356000   \n",
       "4         4  40.3759 -91.8502      1.0     35.221850      5.936325  4.370000   \n",
       "...     ...      ...      ...      ...           ...           ...       ...   \n",
       "1225   1225  40.3794 -91.8465      1.0     35.242850      5.932800  4.475000   \n",
       "1226   1226  40.3794 -91.8463      1.0     35.426700      5.902020  4.442000   \n",
       "1227   1227  40.3794 -91.8462      1.0     35.353600      5.914225  4.465000   \n",
       "1228   1228  40.3794 -91.8461      1.0     35.301100      5.924750  3.963333   \n",
       "1229   1229  40.3794 -91.8460      1.0     36.284700      5.762480  3.322000   \n",
       "\n",
       "           yield  \n",
       "0     254.314930  \n",
       "1     236.583817  \n",
       "2     290.148567  \n",
       "3     263.198717  \n",
       "4     266.890550  \n",
       "...          ...  \n",
       "1225  247.085083  \n",
       "1226  226.402020  \n",
       "1227  235.122440  \n",
       "1228  195.312000  \n",
       "1229  184.693671  \n",
       "\n",
       "[1230 rows x 8 columns]"
      ]
     },
     "execution_count": 65,
     "metadata": {},
     "output_type": "execute_result"
    }
   ],
   "source": [
    "# Doing an exploratory merging process by merging the two df into one, \n",
    "# and calculating the mean values of the speeds and yields\n",
    "\n",
    "# Merging the two dataframes \n",
    "\n",
    "\n",
    "crop = new_planting.merge(new_harvest, \n",
    "                how='right')\n",
    "crop = crop.groupby(['lat','long','variety'], as_index=False)[['seeding_rate', 'seed_spacing', 'speed','yield']].mean().reset_index()\n",
    "crop"
   ]
  },
  {
   "cell_type": "markdown",
   "metadata": {},
   "source": [
    "## Step 2. Part A - Associate the Planter and Harvester Data"
   ]
  },
  {
   "cell_type": "markdown",
   "metadata": {},
   "source": [
    "Take two arguments : the planting filename and the harvest filename"
   ]
  },
  {
   "cell_type": "code",
   "execution_count": 66,
   "metadata": {},
   "outputs": [],
   "source": [
    "# Declare two variables containing the planter and harvester filenames\n",
    "\n",
    "planter_fn = ('../data/planting_sample_data.csv')\n",
    "harvester_fn = ('../data/harvest_sample_data.csv')"
   ]
  },
  {
   "cell_type": "markdown",
   "metadata": {},
   "source": [
    "Parts A.2 and A.3 Create a function to read the files and return a dataframe with the same number of rows as the harvest file"
   ]
  },
  {
   "cell_type": "code",
   "execution_count": 67,
   "metadata": {},
   "outputs": [],
   "source": [
    "# Defining the function, its arguments and the result\n",
    "\n",
    "\n",
    "def crop_int(plant, harv):\n",
    "    \"\"\"\n",
    "    This function reads the data from the planter (plant) and harvester (harv)\n",
    "    files and creates a new dataframe with the integrated data to be analyzed later\n",
    "    \"\"\"\n",
    "    import timeit #To estimate the running time\n",
    "\n",
    "    start = timeit.timeit()\n",
    "\n",
    "    planter = pd.read_csv(plant)\n",
    "    harvest = pd.read_csv(harv)\n",
    "    \n",
    "    #In this part of the function the variety feature (string) is replaced by a numeric value \n",
    "    variety_array = planter.variety.unique()\n",
    "    n_variety = len(variety_array)\n",
    "    \n",
    "    planter = planter.replace(variety_array,list(range(n_variety)))\n",
    "    \n",
    "    #The user is notified what changes where made to the original data\n",
    "    for nv in range(n_variety):\n",
    "        print('The variety ' + variety_array[nv] + ' has been replaced by the numeric value ' + str(nv) )\n",
    "    \n",
    "    #Here both dataframes are merged into one by grouping using latitude and longitude and preserving the same number\n",
    "    #of rows of harvest file. Before merging the data, latitude and longitude values are round to 4 decimals.\n",
    "    new_planting = planter.round(4)\n",
    "    new_harvest = harvest.round(4)\n",
    "    \n",
    "    crop = new_planting.merge(new_harvest, how='right')\n",
    "            \n",
    "    crop.to_csv('../data/merged_plant_harvest.csv')\n",
    "    end = timeit.timeit()\n",
    "    print('This function was executed in ' + str(round((start - end), 5)) + 'seconds')\n",
    "    return\n"
   ]
  },
  {
   "cell_type": "code",
   "execution_count": 68,
   "metadata": {},
   "outputs": [
    {
     "name": "stdout",
     "output_type": "stream",
     "text": [
      "The variety P1498 has been replaced by the numeric value 0\n",
      "The variety DKC63-33RIB has been replaced by the numeric value 1\n",
      "This function was executed in -0.00055seconds\n"
     ]
    }
   ],
   "source": [
    "# Testing the function\n",
    "\n",
    "crop_int(planter_fn, harvester_fn)\n"
   ]
  },
  {
   "cell_type": "markdown",
   "metadata": {},
   "source": [
    "### *Insights about the preprocessing part and the part A of the take-home question*\n",
    "\n",
    "The pre-processing phase contains to main parts: \n",
    " - An exploration of the provided data to understand its structure\n",
    " - The function that will allow us to read the data and produce a new .csv file preserving the same number of rows the harvest file has.\n",
    "\n",
    "In the exploratory part, I did a quick check on the data properties, mostly related to the type of values (strings, floats, integers), the different features in the data set and the structure of the data in both cases, i.e., the planting and harvest files. I also checked for NaN values and some other general aspects of the files.\n",
    "\n",
    "Before making the function, I coded the lines to check their functionality. I found that, given the nature of the latitude and longitude values and resolution, there is zero coincidence between the two data sets for those specific columns. Having six decimals makes these values hard to match, so I decided to round the variables up to 4 decimals.  I could have included some more lines in the function for verifying that the number of rows in the output files matches the number of rows in the harvest file ( I did it in the pre-processing) . In the same sense, a line can be included to check all the rows, and labels are in place. I did not do it to make the function more efficient in terms of the time spent running.\n",
    "\n",
    "The code is straightforward and gives us the necessary information we need. It is possible to create a function that parses the arguments from the command line, or that checks for error in the inputs.\n",
    "\n"
   ]
  },
  {
   "cell_type": "markdown",
   "metadata": {},
   "source": [
    "## Step 3. Part B - Exploratory Data Analysis\n",
    "\n",
    "For this part it is necessary to use the function in part A."
   ]
  },
  {
   "cell_type": "markdown",
   "metadata": {},
   "source": [
    "### Step 3.1. Exploratory analysis\n",
    "\n",
    "As a first step I decided to group the data and as some longitudes and latitudes values are repeated. For doing it so, I used the mean values on the seeding rate, the seeding spacing, the driving speed of the planter and the yield values."
   ]
  },
  {
   "cell_type": "code",
   "execution_count": 69,
   "metadata": {},
   "outputs": [
    {
     "name": "stdout",
     "output_type": "stream",
     "text": [
      "The variety P1498 has been replaced by the numeric value 0\n",
      "The variety DKC63-33RIB has been replaced by the numeric value 1\n",
      "This function was executed in 0.00027seconds\n"
     ]
    }
   ],
   "source": [
    "#Defining the file paths, and using the function I created in part A.\n",
    "planter_fn = ('../data/planting_sample_data.csv')\n",
    "harvester_fn = ('../data/harvest_sample_data.csv')\n",
    "crop_int(planter_fn, harvester_fn)"
   ]
  },
  {
   "cell_type": "code",
   "execution_count": 70,
   "metadata": {},
   "outputs": [],
   "source": [
    "crop = crop.groupby(['lat','long','variety'], \n",
    "                    as_index=False)[['seeding_rate', \n",
    "                                     'seed_spacing', 'speed','yield']].mean()"
   ]
  },
  {
   "cell_type": "code",
   "execution_count": 76,
   "metadata": {},
   "outputs": [
    {
     "data": {
      "text/html": [
       "<div>\n",
       "<style scoped>\n",
       "    .dataframe tbody tr th:only-of-type {\n",
       "        vertical-align: middle;\n",
       "    }\n",
       "\n",
       "    .dataframe tbody tr th {\n",
       "        vertical-align: top;\n",
       "    }\n",
       "\n",
       "    .dataframe thead th {\n",
       "        text-align: right;\n",
       "    }\n",
       "</style>\n",
       "<table border=\"1\" class=\"dataframe\">\n",
       "  <thead>\n",
       "    <tr style=\"text-align: right;\">\n",
       "      <th></th>\n",
       "      <th>lat</th>\n",
       "      <th>long</th>\n",
       "      <th>variety</th>\n",
       "      <th>seeding_rate</th>\n",
       "      <th>seed_spacing</th>\n",
       "      <th>speed</th>\n",
       "      <th>yield</th>\n",
       "    </tr>\n",
       "  </thead>\n",
       "  <tbody>\n",
       "    <tr>\n",
       "      <th>0</th>\n",
       "      <td>40.3759</td>\n",
       "      <td>-91.8506</td>\n",
       "      <td>1.0</td>\n",
       "      <td>0.000000</td>\n",
       "      <td>0.000000</td>\n",
       "      <td>0.020000</td>\n",
       "      <td>254.314930</td>\n",
       "    </tr>\n",
       "    <tr>\n",
       "      <th>1</th>\n",
       "      <td>40.3759</td>\n",
       "      <td>-91.8505</td>\n",
       "      <td>1.0</td>\n",
       "      <td>35.784671</td>\n",
       "      <td>5.843829</td>\n",
       "      <td>2.971429</td>\n",
       "      <td>236.583817</td>\n",
       "    </tr>\n",
       "    <tr>\n",
       "      <th>2</th>\n",
       "      <td>40.3759</td>\n",
       "      <td>-91.8504</td>\n",
       "      <td>1.0</td>\n",
       "      <td>35.261100</td>\n",
       "      <td>5.929725</td>\n",
       "      <td>4.347500</td>\n",
       "      <td>290.148567</td>\n",
       "    </tr>\n",
       "    <tr>\n",
       "      <th>3</th>\n",
       "      <td>40.3759</td>\n",
       "      <td>-91.8503</td>\n",
       "      <td>1.0</td>\n",
       "      <td>35.212900</td>\n",
       "      <td>5.937840</td>\n",
       "      <td>4.356000</td>\n",
       "      <td>263.198717</td>\n",
       "    </tr>\n",
       "    <tr>\n",
       "      <th>4</th>\n",
       "      <td>40.3759</td>\n",
       "      <td>-91.8502</td>\n",
       "      <td>1.0</td>\n",
       "      <td>35.221850</td>\n",
       "      <td>5.936325</td>\n",
       "      <td>4.370000</td>\n",
       "      <td>266.890550</td>\n",
       "    </tr>\n",
       "  </tbody>\n",
       "</table>\n",
       "</div>"
      ],
      "text/plain": [
       "       lat     long  variety  seeding_rate  seed_spacing     speed       yield\n",
       "0  40.3759 -91.8506      1.0      0.000000      0.000000  0.020000  254.314930\n",
       "1  40.3759 -91.8505      1.0     35.784671      5.843829  2.971429  236.583817\n",
       "2  40.3759 -91.8504      1.0     35.261100      5.929725  4.347500  290.148567\n",
       "3  40.3759 -91.8503      1.0     35.212900      5.937840  4.356000  263.198717\n",
       "4  40.3759 -91.8502      1.0     35.221850      5.936325  4.370000  266.890550"
      ]
     },
     "execution_count": 76,
     "metadata": {},
     "output_type": "execute_result"
    }
   ],
   "source": [
    "crop.head()  #here is a reduced data set with unique values of lat and lon after cleaning the data"
   ]
  },
  {
   "cell_type": "code",
   "execution_count": 100,
   "metadata": {},
   "outputs": [
    {
     "data": {
      "text/plain": [
       "(variety           0.000000\n",
       " seeding_rate     36.351263\n",
       " seed_spacing      5.773439\n",
       " speed             4.057467\n",
       " yield           230.275456\n",
       " dtype: float64,\n",
       " variety           1.000000\n",
       " seeding_rate     36.786251\n",
       " seed_spacing      5.677119\n",
       " speed             4.680193\n",
       " yield           231.272978\n",
       " dtype: float64,\n",
       " variety          0.000000\n",
       " seeding_rate     1.899497\n",
       " seed_spacing     0.322153\n",
       " speed            0.571797\n",
       " yield           22.567507\n",
       " dtype: float64,\n",
       " variety          0.000000\n",
       " seeding_rate     2.298156\n",
       " seed_spacing     0.816899\n",
       " speed            0.363571\n",
       " yield           21.409011\n",
       " dtype: float64)"
      ]
     },
     "execution_count": 100,
     "metadata": {},
     "output_type": "execute_result"
    }
   ],
   "source": [
    "#Calculating Statitical values and some visualizations of for example heatmaps of correlations\n",
    "mean_v0 = short_crop.loc[short_crop['variety'] == 0].mean(); mean_v1 = short_crop.loc[short_crop['variety'] == 1].mean()\n",
    "std_v0 = short_crop.loc[short_crop['variety'] == 0].std(); std_v1 = short_crop.loc[short_crop['variety'] == 1].std()\n",
    "corr_v0 = short_crop.loc[short_crop['variety'] == 0].corr(); corr_v1 = short_crop.loc[short_crop['variety'] == 1].corr()\n",
    "corr_v0 = corr_v0.drop('variety')\n",
    "corr_v1 = corr_v1.drop('variety')\n",
    "\n",
    "mean_v0, mean_v1, std_v0, std_v1\n"
   ]
  },
  {
   "cell_type": "markdown",
   "metadata": {},
   "source": [
    "With this simple calculation it is possible to describe two very important aspect of the variables,the mean and the standard deviations. I separated the variables according to the type of seed, and the results are comparable. For the type-0 seed the mean yield was 230.3 bushels/acre while the type-2 seed produced 231.3 bushels/acre. In the same context, the standard deviations are 22.6 and 21.4 respectively. Although the mean values for the other variables do not have a significant difference (here I am not referring to statistically significant, as this requires a different analysis, like a Welch's-t test), the standard deviations exhibit some differences."
   ]
  },
  {
   "cell_type": "code",
   "execution_count": 101,
   "metadata": {},
   "outputs": [
    {
     "data": {
      "image/png": "[encoded data removed]",
      "text/plain": [
       "<Figure size 2160x720 with 5 Axes>"
      ]
     },
     "metadata": {},
     "output_type": "display_data"
    }
   ],
   "source": [
    "# After I will perform some histogram plots to better understand the general distribution of the variables, regardless of the location.\n",
    "\n",
    "short_crop = crop.drop(['lat','long'], axis=1)\n",
    "\n",
    "# A short function to draw some histograms\n",
    "def draw_histograms(df, variables, n_rows, n_cols):\n",
    "    fig=plt.figure()\n",
    "    for i, var_name in enumerate(variables):\n",
    "        ax=fig.add_subplot(n_rows,n_cols,i+1)\n",
    "        df[var_name].hist(bins=20,ax=ax,figsize=(30,10))\n",
    "        ax.set_title(var_name+\" Distribution\")\n",
    "    \n",
    "    plt.show()\n",
    "    return\n",
    "\n",
    "draw_histograms(short_crop, short_crop.columns, 1, 5)"
   ]
  },
  {
   "cell_type": "markdown",
   "metadata": {},
   "source": [
    "The previous histograms were made to explore the distribution of the different variables in the files. It is not intended to explore a specific distribution (i.e. Gaussian, or something in particular) it is more a descriptive way of showing the data values. The yield, for instance, has a peak value of the distribution around 230 bushels/acre, with a gaussian shape (this needs to be proved by performing a test). This simple figure gives us an idea of the yielded product in October, with some values around the mean that in the most extreme case goes up to 300 bushels/acre. There are some extremely law values when compared to the mean (240), and those should be double checked with the farmer to understand better where are they coming from. In the case of the speed distribution, there is a clear evidence that in the most of the cases the planting speed was 4.8 miles/hour"
   ]
  },
  {
   "cell_type": "code",
   "execution_count": 104,
   "metadata": {},
   "outputs": [
    {
     "data": {
      "image/png": "[encoded data removed]",
      "text/plain": [
       "<Figure size 432x288 with 2 Axes>"
      ]
     },
     "metadata": {},
     "output_type": "display_data"
    }
   ],
   "source": [
    "import seaborn as sns; sns.set()\n",
    "ax = sns.heatmap(corr_v0, linewidths=0.1, cmap=\"YlGnBu\", center=0)"
   ]
  },
  {
   "cell_type": "code",
   "execution_count": 105,
   "metadata": {},
   "outputs": [
    {
     "data": {
      "image/png": "[encoded data removed]",
      "text/plain": [
       "<Figure size 432x288 with 2 Axes>"
      ]
     },
     "metadata": {},
     "output_type": "display_data"
    }
   ],
   "source": [
    "import seaborn as sns; sns.set()\n",
    "ax = sns.heatmap(corr_v1, linewidths=0.1, cmap=\"YlGnBu\", center=0)"
   ]
  },
  {
   "cell_type": "markdown",
   "metadata": {},
   "source": [
    "Heatmaps are very cool visualizations when we want to evaluate variations among variables. As this is an exploratory analysis, I built the heatmaps based on the correlation values among the multiple values.  I centered both heatmaps in zero to compare them properly.  The first map corresponds to the values associated to the seed type 0, the second one corresponds to the seed type 1. There are some high negative values of correlation, in particular between the seeding rate and the seed spacing. It would be good to know the characteristics of the type 0 seed and how they affect the spacing and planting rate as the correlation is negative. For a client or a customer this a practical way of showing some interesting relationships."
   ]
  },
  {
   "cell_type": "code",
   "execution_count": 95,
   "metadata": {},
   "outputs": [
    {
     "data": {
      "image/png": "[encoded data removed]",
      "text/plain": [
       "<Figure size 720x720 with 3 Axes>"
      ]
     },
     "metadata": {},
     "output_type": "display_data"
    }
   ],
   "source": [
    "#Here some exploration on the relationship between variables for the different varietys\n",
    "\n",
    "fig, (ax0, ax1, ax2) = plt.subplots(nrows=3, \n",
    "                                    ncols=1,\n",
    "                                    figsize=(10,10))\n",
    "scatter = ax0.scatter(x=crop['seeding_rate'],\n",
    "                      y=crop['yield'],\n",
    "                      c=crop['variety'],\n",
    "                      cmap = 'YlGnBu')\n",
    "ax0.set(title='Seeding rate vs. Yield',\n",
    "        xlabel='Seeding rate [#seeds/acre]x1000',\n",
    "        ylabel='Yield [bushels/acre]')\n",
    "ax0.legend(*scatter.legend_elements(), title='Variety')\n",
    "\n",
    "scatter = ax1.scatter(x=crop['seed_spacing'],\n",
    "                      y=crop['yield'],\n",
    "                      c=crop['variety'],\n",
    "                      cmap = 'YlGnBu')\n",
    "ax1.set(title='Seed Spacing vs. Yield',\n",
    "        xlabel='Seed Spacing [in]',\n",
    "        ylabel='Yield [bushels/acre]')\n",
    "\n",
    "ax1.legend(*scatter.legend_elements(), title='Variety')\n",
    "\n",
    "scatter = ax2.scatter(x=crop['speed'],\n",
    "                      y=crop['yield'],\n",
    "                      c=crop['variety'],\n",
    "                      cmap = 'YlGnBu')\n",
    "ax2.set(title='Planting Speed vs. Yield',\n",
    "        xlabel='Planting Speed [miles/hr]',\n",
    "        ylabel='Yield [bushels/acre]')\n",
    "ax2.legend(*scatter.legend_elements(), title='Variety')\n",
    "plt.subplots_adjust(hspace=0.5)"
   ]
  },
  {
   "cell_type": "markdown",
   "metadata": {},
   "source": [
    "Finally I plotted some scattered figures to describe the relationship among the different planting variables and the result associated to them that translates into yield. At first sight it is hard to establish a particular pattern where we can say that if we increase or decrease any of the values in the three planting variables (i.e. Seeding rate, seed spacing or planting speed, we will see changes in the yielded product).\n",
    "\n",
    "If I would have more data I would like to explore two types of approaches. The first would be a prediction model (less -likely) where I will explore if it is possible to predict yield values based on any or all of the variables associated to the planting process. At first sight, I do not see any direct relation that indicates an increase in the yielded product by changing some planting variables. But out of curiosity I will try a ML method to see if I can get to some point. The other approach will be to think about this dataset as a good candidate for a classification model (like k-neighbors) where yield values are grouped according to some characteristics in the plantation process.\n",
    "\n",
    "Either one or the other will require two more things I would add. A spatial representation of the data, i.e. plot the data with the lat, lon information we have and match it with satellite/topography data to check if there is any variation in space linked to the shape of the terrain or something else. More data associated to the yielded product like for example irrigation, weather, agrochemical aspersion rates among others."
   ]
  },
  {
   "cell_type": "code",
   "execution_count": null,
   "metadata": {},
   "outputs": [],
   "source": []
  }
 ],
 "metadata": {
  "kernelspec": {
   "display_name": "Python 3",
   "language": "python",
   "name": "python3"
  },
  "language_info": {
   "codemirror_mode": {
    "name": "ipython",
    "version": 3
   },
   "file_extension": ".py",
   "mimetype": "text/x-python",
   "name": "python",
   "nbconvert_exporter": "python",
   "pygments_lexer": "ipython3",
   "version": "3.8.2"
  }
 },
 "nbformat": 4,
 "nbformat_minor": 4
}
